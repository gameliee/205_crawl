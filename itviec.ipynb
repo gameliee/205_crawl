{
 "cells": [
  {
   "cell_type": "code",
   "execution_count": 1,
   "metadata": {},
   "outputs": [],
   "source": [
    "import requests\n",
    "from scrapy.http import TextResponse"
   ]
  },
  {
   "cell_type": "code",
   "execution_count": 2,
   "metadata": {},
   "outputs": [],
   "source": [
    "res = requests.get('https://itviec.com/it-jobs')\n",
    "response = TextResponse(res.url, body=res.text, encoding='utf-8')"
   ]
  },
  {
   "cell_type": "markdown",
   "metadata": {},
   "source": [
    "## Parse content"
   ]
  },
  {
   "cell_type": "code",
   "execution_count": 3,
   "metadata": {},
   "outputs": [
    {
     "data": {
      "text/plain": [
       "['/it-jobs/senior-database-administrator-m_service-momo-0108/content?locale=en',\n",
       " '/it-jobs/business-analyst-q-connection-1703/content?locale=en',\n",
       " '/it-jobs/it-security-gene-solutions-3113/content?locale=en',\n",
       " '/it-jobs/lead-engineer-panasonic-vietnam-group-panasonic-r-d-center-vietnam-prdcv-5834/content?locale=en',\n",
       " '/it-jobs/devops-jenkins-azure-kubernetes-panasonic-vietnam-group-panasonic-r-d-center-vietnam-prdcv-2338/content?locale=en',\n",
       " '/it-jobs/business-analyst-agile-mb-bank-3303/content?locale=en',\n",
       " '/it-jobs/senior-ios-developer-urgent-tps-software-3306/content?locale=en',\n",
       " '/it-jobs/senior-power-app-developer-sql-sharepoint-fpt-software-1854/content?locale=en',\n",
       " '/it-jobs/senior-database-developer-ssrs-ssis-aperia-solutions-vietnam-co-ltd-1107/content?locale=en',\n",
       " '/it-jobs/it-support-gene-solutions-4019/content?locale=en',\n",
       " '/it-jobs/unity-c-developer-team-leader-devdirect-ltd-5928/content?locale=en',\n",
       " '/it-jobs/fullstack-developer-python-reactjs-up-to-2000-theinfitech-2146/content?locale=en',\n",
       " '/it-jobs/senior-qa-qc-engineer-hybrid-lhv-software-1808/content?locale=en']"
      ]
     },
     "execution_count": 3,
     "metadata": {},
     "output_type": "execute_result"
    }
   ],
   "source": [
    "response.xpath(\"//div[@class='job']/@data-search--job-selection-job-url-value\").extract()"
   ]
  },
  {
   "cell_type": "markdown",
   "metadata": {},
   "source": [
    "## Pagniation problem"
   ]
  },
  {
   "cell_type": "markdown",
   "metadata": {},
   "source": [
    "### First, find the `next` button"
   ]
  },
  {
   "cell_type": "code",
   "execution_count": 9,
   "metadata": {},
   "outputs": [
    {
     "data": {
      "text/plain": [
       "['/it-jobs?page=2&query=&source=search_job',\n",
       " '/it-jobs?page=2&query=&source=search_job']"
      ]
     },
     "execution_count": 9,
     "metadata": {},
     "output_type": "execute_result"
    }
   ],
   "source": [
    "response.xpath(\"//div[@class='search-page__jobs-pagination']//li//a[@rel='next']/@href\").extract()"
   ]
  },
  {
   "cell_type": "markdown",
   "metadata": {},
   "source": [
    "test link extractor"
   ]
  },
  {
   "cell_type": "code",
   "execution_count": 7,
   "metadata": {},
   "outputs": [],
   "source": [
    "from scrapy.linkextractors import LinkExtractor"
   ]
  },
  {
   "cell_type": "code",
   "execution_count": 10,
   "metadata": {},
   "outputs": [
    {
     "data": {
      "text/plain": [
       "<200 https://itviec.com/it-jobs>"
      ]
     },
     "execution_count": 10,
     "metadata": {},
     "output_type": "execute_result"
    }
   ],
   "source": [
    "response"
   ]
  },
  {
   "cell_type": "code",
   "execution_count": 13,
   "metadata": {},
   "outputs": [
    {
     "data": {
      "text/plain": [
       "[Link(url='https://itviec.com/it-jobs/senior-database-administrator-m_service-momo-0108/content?locale=en', text='\\n\\n\\n\\n\\n\\n\\n\\n\\n\\n\\n\\n\\n\\n\\nSenior Database Administrator (Oracle)\\n\\n\\n\\n\\n\\n\\nSign in to view\\n\\n\\n\\n\\n\\n\\nHo Chi Minh\\n\\n\\n\\n\\n\\n\\n\\nDatabase\\n\\n\\nMySQL\\n\\n\\nOracle\\n\\n\\n\\n\\n\\n1m\\n\\n\\n\\n\\n\\n\\n\\nHot\\n\\n\\nHo Chi Minh\\n\\n\\n\\n\\n1m\\n\\n\\n\\n\\n', fragment='', nofollow=False),\n",
       " Link(url='https://itviec.com/it-jobs/business-analyst-q-connection-1703/content?locale=en', text='\\n\\n\\n\\n\\n\\n\\n\\n\\n\\n\\n\\n\\n\\n\\nBusiness Analyst\\n\\n\\n\\n\\n\\n\\nSign in to view\\n\\n\\n\\n\\n\\n\\nHo Chi Minh\\n\\n\\n\\n\\n\\n\\n\\nBusiness Analyst\\n\\n\\nERP\\n\\n\\n\\n\\n\\n10m\\n\\n\\n\\n\\n\\n\\n\\nHot\\n\\n\\nHo Chi Minh\\n\\n\\n\\n\\n10m\\n\\n\\n\\n\\n', fragment='', nofollow=False),\n",
       " Link(url='https://itviec.com/it-jobs/it-security-gene-solutions-3113/content?locale=en', text='\\n\\n\\n\\n\\n\\n\\n\\n\\n\\n\\n\\n\\n\\n\\nIT Security \\n\\n\\n\\n\\n\\n\\nSign in to view\\n\\n\\n\\n\\n\\n\\nHo Chi Minh\\n\\n\\n\\n\\n\\n\\n\\nNetworking\\n\\n\\nSystem Engineer\\n\\n\\nDevOps\\n\\n\\n\\n\\n\\n1h\\n\\n\\n\\n\\n\\n\\n\\nHot\\n\\n\\nHo Chi Minh\\n\\n\\n\\n\\n1h\\n\\n\\n\\n\\n', fragment='', nofollow=False),\n",
       " Link(url='https://itviec.com/it-jobs/lead-engineer-panasonic-vietnam-group-panasonic-r-d-center-vietnam-prdcv-5834/content?locale=en', text='\\n\\n\\n\\n\\n\\n\\n\\n\\n\\n\\n\\n\\n\\n\\nLead Engineer\\n\\n\\n\\n\\n\\n\\nSign in to view\\n\\n\\n\\n\\n\\n\\nHa Noi\\n\\n\\n\\n\\n\\n\\n\\nSoftware Architect\\n\\n\\n.NET\\n\\n\\nTeam Leader\\n\\n\\n\\n\\n\\n1h\\n\\n\\n\\n\\n\\n\\n\\nHot\\n\\n\\nHa Noi\\n\\n\\n\\n\\n1h\\n\\n\\n\\n\\n', fragment='', nofollow=False),\n",
       " Link(url='https://itviec.com/it-jobs/devops-jenkins-azure-kubernetes-panasonic-vietnam-group-panasonic-r-d-center-vietnam-prdcv-2338/content?locale=en', text='\\n\\n\\n\\n\\n\\n\\n\\n\\n\\n\\n\\n\\n\\n\\nDevOps (Jenkins/Azure/Kubernetes) \\n\\n\\n\\n\\n\\n\\nSign in to view\\n\\n\\n\\n\\n\\n\\nHa Noi\\n\\n\\n\\n\\n\\n\\n\\nDevOps\\n\\n\\nAzure\\n\\n\\nPostgreSql\\n\\n\\n\\n\\n\\n1h\\n\\n\\n\\n\\n\\n\\n\\nHot\\n\\n\\nHa Noi\\n\\n\\n\\n\\n1h\\n\\n\\n\\n\\n', fragment='', nofollow=False),\n",
       " Link(url='https://itviec.com/it-jobs/business-analyst-agile-mb-bank-3303/content?locale=en', text='\\n\\n\\n\\n\\n\\n\\n\\n\\n\\n\\n\\n\\n\\n\\nBusiness Analyst (Agile)\\n\\n\\n\\n\\n\\n\\nSign in to view\\n\\n\\n\\n\\n\\n\\nHa Noi\\n\\n\\n\\n\\n\\n\\n\\nBusiness Analyst\\n\\n\\nProject Manager\\n\\n\\nAgile\\n\\n\\n\\n\\n\\n1h\\n\\n\\n\\n\\n\\n\\n\\nHot\\n\\n\\nHa Noi\\n\\n\\n\\n\\n1h\\n\\n\\n\\n\\n', fragment='', nofollow=False),\n",
       " Link(url='https://itviec.com/it-jobs/senior-ios-developer-urgent-tps-software-3306/content?locale=en', text='\\n\\n\\n\\n\\n\\n\\n\\n\\n\\n\\n\\n\\n\\n\\nSenior iOS Developer - Urgent\\n\\n\\n\\n\\n\\n\\nSign in to view\\n\\n\\n\\n\\n\\n\\nHo Chi Minh\\n\\n\\n\\n\\n\\n\\n\\niOS\\n\\n\\nSwift\\n\\n\\nObjective C\\n\\n\\n\\n\\n\\n1h\\n\\n\\n\\n\\n\\n\\n\\nHot\\n\\n\\nHo Chi Minh\\n\\n\\n\\n\\n1h\\n\\n\\n\\n\\n', fragment='', nofollow=False),\n",
       " Link(url='https://itviec.com/it-jobs/senior-power-app-developer-sql-sharepoint-fpt-software-1854/content?locale=en', text='\\n\\n\\n\\n\\n\\n\\n\\n\\n\\n\\n\\n\\n\\n\\nSenior Power App Developer (SQL / Sharepoint)\\n\\n\\n\\n\\n\\n\\nSign in to view\\n\\n\\n\\n\\n\\n\\nDa Nang\\n\\n\\n\\n\\n\\n\\n\\nSQL\\n\\n\\nC#\\n\\n\\nSharepoint\\n\\n\\n\\n\\n\\n1h\\n\\n\\n\\n\\n\\n\\n\\nHot\\n\\n\\nDa Nang\\n\\n\\n\\n\\n1h\\n\\n\\n\\n\\n', fragment='', nofollow=False),\n",
       " Link(url='https://itviec.com/it-jobs/senior-database-developer-ssrs-ssis-aperia-solutions-vietnam-co-ltd-1107/content?locale=en', text='\\n\\n\\n\\n\\n\\n\\n\\n\\n\\n\\n\\n\\n\\n\\nSenior Database Developer (SSRS/SSIS)\\n\\n\\n\\n\\n\\n\\nSign in to view\\n\\n\\n\\n\\n\\n\\nHo Chi Minh\\n\\n\\n\\n\\n\\n\\n\\nSQL\\n\\n\\nDatabase\\n\\n\\nEnglish\\n\\n\\n\\n\\n\\n2h\\n\\n\\n\\n\\n\\n\\n\\nHot\\n\\n\\nHo Chi Minh\\n\\n\\n\\n\\n2h\\n\\n\\n\\n\\n', fragment='', nofollow=False),\n",
       " Link(url='https://itviec.com/it-jobs/it-support-gene-solutions-4019/content?locale=en', text='\\n\\n\\n\\n\\n\\n\\n\\n\\n\\n\\n\\n\\n\\n\\nIT Support\\n\\n\\n\\n\\n\\n\\nSign in to view\\n\\n\\n\\n\\n\\n\\nHa Noi\\n\\n\\n\\n\\n\\n\\n\\nIT Support\\n\\n\\nEnglish\\n\\n\\nNetworking\\n\\n\\n\\n\\n\\n2h\\n\\n\\n\\n\\n\\n\\n\\nHot\\n\\n\\nHa Noi\\n\\n\\n\\n\\n2h\\n\\n\\n\\n\\n', fragment='', nofollow=False),\n",
       " Link(url='https://itviec.com/it-jobs/unity-c-developer-team-leader-devdirect-ltd-5928/content?locale=en', text='\\n\\n\\n\\n\\n\\n\\n\\n\\n\\n\\n\\n\\n\\n\\nUnity (C#) Developer Team Leader\\n\\n\\n\\n\\n\\n\\nSign in to view\\n\\n\\n\\n\\n\\n\\nHo Chi Minh\\n\\n\\n\\n\\n\\n\\n\\nUnity\\n\\n\\nTeam Leader\\n\\n\\nC#\\n\\n\\n\\n\\n\\n3h\\n\\n\\n\\n\\n\\n\\n\\nHot\\n\\n\\nHo Chi Minh\\n\\n\\n\\n\\n3h\\n\\n\\n\\n\\n', fragment='', nofollow=False),\n",
       " Link(url='https://itviec.com/it-jobs/fullstack-developer-python-reactjs-up-to-2000-theinfitech-2146/content?locale=en', text='\\n\\n\\n\\n\\n\\n\\n\\n\\n\\n\\n\\n\\n\\n\\nFullstack Developer (Python + ReactJS) Up to $2000\\n\\n\\n\\n\\n\\n\\nSign in to view\\n\\n\\n\\n\\n\\n\\nHa Noi\\n\\n\\n\\n\\n\\n\\n\\nPython\\n\\n\\nJavaScript\\n\\n\\nReactJS\\n\\n\\n\\n\\n\\n11h\\n\\n\\n\\n\\n\\n\\n\\nHot\\n\\n\\nHa Noi\\n\\n\\n\\n\\n11h\\n\\n\\n\\n\\n', fragment='', nofollow=False),\n",
       " Link(url='https://itviec.com/it-jobs/senior-qa-qc-engineer-hybrid-lhv-software-1808/content?locale=en', text='\\n\\n\\n\\n\\n\\n\\n\\n\\n\\n\\n\\n\\n\\n\\nSenior QA QC Engineer (Hybrid) \\n\\n\\n\\n\\n\\n\\nSign in to view\\n\\n\\n\\n\\n\\n\\nHo Chi Minh\\n\\n\\n\\n\\n\\n\\n\\nQA QC\\n\\n\\nTester\\n\\n\\nAgile\\n\\n\\n\\n\\n\\n14h\\n\\n\\n\\n\\n\\n\\n\\nHot\\n\\n\\nHo Chi Minh\\n\\n\\n\\n\\n14h\\n\\n\\n\\n\\n', fragment='', nofollow=False)]"
      ]
     },
     "execution_count": 13,
     "metadata": {},
     "output_type": "execute_result"
    }
   ],
   "source": [
    "LinkExtractor(restrict_xpaths=\"//div[@class='job']\", tags=('div'), attrs=('data-search--job-selection-job-url-value')).extract_links(response)"
   ]
  }
 ],
 "metadata": {
  "kernelspec": {
   "display_name": "Python 3.10.4 ('py310')",
   "language": "python",
   "name": "python3"
  },
  "language_info": {
   "codemirror_mode": {
    "name": "ipython",
    "version": 3
   },
   "file_extension": ".py",
   "mimetype": "text/x-python",
   "name": "python",
   "nbconvert_exporter": "python",
   "pygments_lexer": "ipython3",
   "version": "3.10.4"
  },
  "orig_nbformat": 4,
  "vscode": {
   "interpreter": {
    "hash": "12c147c75f1528d02b77cd18321ae8ddb214f8aa2ff83ab1d02d4479b32075ed"
   }
  }
 },
 "nbformat": 4,
 "nbformat_minor": 2
}
