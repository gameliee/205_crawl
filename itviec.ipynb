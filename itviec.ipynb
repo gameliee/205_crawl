{
 "cells": [
  {
   "cell_type": "code",
   "execution_count": 1,
   "metadata": {},
   "outputs": [],
   "source": [
    "import requests\n",
    "from scrapy.http import TextResponse"
   ]
  },
  {
   "cell_type": "code",
   "execution_count": 2,
   "metadata": {},
   "outputs": [],
   "source": [
    "res = requests.get('https://itviec.com/it-jobs')\n",
    "response = TextResponse(res.url, body=res.text, encoding='utf-8')"
   ]
  },
  {
   "cell_type": "markdown",
   "metadata": {},
   "source": [
    "## Parse content"
   ]
  },
  {
   "cell_type": "code",
   "execution_count": 3,
   "metadata": {},
   "outputs": [
    {
     "data": {
      "text/plain": [
       "['/it-jobs/senior-database-administrator-m_service-momo-0108/content?locale=en',\n",
       " '/it-jobs/business-analyst-q-connection-1703/content?locale=en',\n",
       " '/it-jobs/it-security-gene-solutions-3113/content?locale=en',\n",
       " '/it-jobs/lead-engineer-panasonic-vietnam-group-panasonic-r-d-center-vietnam-prdcv-5834/content?locale=en',\n",
       " '/it-jobs/devops-jenkins-azure-kubernetes-panasonic-vietnam-group-panasonic-r-d-center-vietnam-prdcv-2338/content?locale=en',\n",
       " '/it-jobs/business-analyst-agile-mb-bank-3303/content?locale=en',\n",
       " '/it-jobs/senior-ios-developer-urgent-tps-software-3306/content?locale=en',\n",
       " '/it-jobs/senior-power-app-developer-sql-sharepoint-fpt-software-1854/content?locale=en',\n",
       " '/it-jobs/senior-database-developer-ssrs-ssis-aperia-solutions-vietnam-co-ltd-1107/content?locale=en',\n",
       " '/it-jobs/it-support-gene-solutions-4019/content?locale=en',\n",
       " '/it-jobs/unity-c-developer-team-leader-devdirect-ltd-5928/content?locale=en',\n",
       " '/it-jobs/fullstack-developer-python-reactjs-up-to-2000-theinfitech-2146/content?locale=en',\n",
       " '/it-jobs/senior-qa-qc-engineer-hybrid-lhv-software-1808/content?locale=en']"
      ]
     },
     "execution_count": 3,
     "metadata": {},
     "output_type": "execute_result"
    }
   ],
   "source": [
    "response.xpath(\"//div[@class='job']/@data-search--job-selection-job-url-value\").extract()"
   ]
  },
  {
   "cell_type": "markdown",
   "metadata": {},
   "source": [
    "## Pagniation problem"
   ]
  },
  {
   "cell_type": "markdown",
   "metadata": {},
   "source": [
    "### First, find the `next` button"
   ]
  },
  {
   "cell_type": "code",
   "execution_count": 9,
   "metadata": {},
   "outputs": [
    {
     "data": {
      "text/plain": [
       "['/it-jobs?page=2&query=&source=search_job',\n",
       " '/it-jobs?page=2&query=&source=search_job']"
      ]
     },
     "execution_count": 9,
     "metadata": {},
     "output_type": "execute_result"
    }
   ],
   "source": [
    "response.xpath(\"//div[@class='search-page__jobs-pagination']//li//a[@rel='next']/@href\").extract()"
   ]
  },
  {
   "cell_type": "markdown",
   "metadata": {},
   "source": [
    "test link extractor"
   ]
  },
  {
   "cell_type": "code",
   "execution_count": 7,
   "metadata": {},
   "outputs": [],
   "source": [
    "from scrapy.linkextractors import LinkExtractor"
   ]
  },
  {
   "cell_type": "code",
   "execution_count": 10,
   "metadata": {},
   "outputs": [
    {
     "data": {
      "text/plain": [
       "<200 https://itviec.com/it-jobs>"
      ]
     },
     "execution_count": 10,
     "metadata": {},
     "output_type": "execute_result"
    }
   ],
   "source": [
    "response"
   ]
  },
  {
   "cell_type": "code",
   "execution_count": 12,
   "metadata": {},
   "outputs": [
    {
     "ename": "AttributeError",
     "evalue": "'str' object has no attribute 'iter'",
     "output_type": "error",
     "traceback": [
      "\u001b[0;31m---------------------------------------------------------------------------\u001b[0m",
      "\u001b[0;31mAttributeError\u001b[0m                            Traceback (most recent call last)",
      "Cell \u001b[0;32mIn[12], line 1\u001b[0m\n\u001b[0;32m----> 1\u001b[0m \u001b[43mLinkExtractor\u001b[49m\u001b[43m(\u001b[49m\u001b[43mrestrict_xpaths\u001b[49m\u001b[38;5;241;43m=\u001b[39;49m\u001b[38;5;124;43m\"\u001b[39;49m\u001b[38;5;124;43m//div[@class=\u001b[39;49m\u001b[38;5;124;43m'\u001b[39;49m\u001b[38;5;124;43mjob\u001b[39;49m\u001b[38;5;124;43m'\u001b[39;49m\u001b[38;5;124;43m]/@data-search--job-selection-job-url-value\u001b[39;49m\u001b[38;5;124;43m\"\u001b[39;49m\u001b[43m,\u001b[49m\u001b[43m \u001b[49m\u001b[43mtags\u001b[49m\u001b[38;5;241;43m=\u001b[39;49m\u001b[43m(\u001b[49m\u001b[43m)\u001b[49m\u001b[43m,\u001b[49m\u001b[43m \u001b[49m\u001b[43mattrs\u001b[49m\u001b[38;5;241;43m=\u001b[39;49m\u001b[43m(\u001b[49m\u001b[43m)\u001b[49m\u001b[43m)\u001b[49m\u001b[38;5;241;43m.\u001b[39;49m\u001b[43mextract_links\u001b[49m\u001b[43m(\u001b[49m\u001b[43mresponse\u001b[49m\u001b[43m)\u001b[49m\n",
      "File \u001b[0;32m~/setupfiles/anaconda3/envs/py310/lib/python3.10/site-packages/scrapy/linkextractors/lxmlhtml.py:241\u001b[0m, in \u001b[0;36mLxmlLinkExtractor.extract_links\u001b[0;34m(self, response)\u001b[0m\n\u001b[1;32m    239\u001b[0m all_links \u001b[39m=\u001b[39m []\n\u001b[1;32m    240\u001b[0m \u001b[39mfor\u001b[39;00m doc \u001b[39min\u001b[39;00m docs:\n\u001b[0;32m--> 241\u001b[0m     links \u001b[39m=\u001b[39m \u001b[39mself\u001b[39;49m\u001b[39m.\u001b[39;49m_extract_links(doc, response\u001b[39m.\u001b[39;49murl, response\u001b[39m.\u001b[39;49mencoding, base_url)\n\u001b[1;32m    242\u001b[0m     all_links\u001b[39m.\u001b[39mextend(\u001b[39mself\u001b[39m\u001b[39m.\u001b[39m_process_links(links))\n\u001b[1;32m    243\u001b[0m \u001b[39mif\u001b[39;00m \u001b[39mself\u001b[39m\u001b[39m.\u001b[39mlink_extractor\u001b[39m.\u001b[39munique:\n",
      "File \u001b[0;32m~/setupfiles/anaconda3/envs/py310/lib/python3.10/site-packages/scrapy/linkextractors/lxmlhtml.py:220\u001b[0m, in \u001b[0;36mLxmlLinkExtractor._extract_links\u001b[0;34m(self, *args, **kwargs)\u001b[0m\n\u001b[1;32m    219\u001b[0m \u001b[39mdef\u001b[39;00m \u001b[39m_extract_links\u001b[39m(\u001b[39mself\u001b[39m, \u001b[39m*\u001b[39margs, \u001b[39m*\u001b[39m\u001b[39m*\u001b[39mkwargs):\n\u001b[0;32m--> 220\u001b[0m     \u001b[39mreturn\u001b[39;00m \u001b[39mself\u001b[39;49m\u001b[39m.\u001b[39;49mlink_extractor\u001b[39m.\u001b[39;49m_extract_links(\u001b[39m*\u001b[39;49margs, \u001b[39m*\u001b[39;49m\u001b[39m*\u001b[39;49mkwargs)\n",
      "File \u001b[0;32m~/setupfiles/anaconda3/envs/py310/lib/python3.10/site-packages/scrapy/linkextractors/lxmlhtml.py:79\u001b[0m, in \u001b[0;36mLxmlParserLinkExtractor._extract_links\u001b[0;34m(self, selector, response_url, response_encoding, base_url)\u001b[0m\n\u001b[1;32m     77\u001b[0m links \u001b[39m=\u001b[39m []\n\u001b[1;32m     78\u001b[0m \u001b[39m# hacky way to get the underlying lxml parsed document\u001b[39;00m\n\u001b[0;32m---> 79\u001b[0m \u001b[39mfor\u001b[39;00m el, attr, attr_val \u001b[39min\u001b[39;00m \u001b[39mself\u001b[39m\u001b[39m.\u001b[39m_iter_links(selector\u001b[39m.\u001b[39mroot):\n\u001b[1;32m     80\u001b[0m     \u001b[39m# pseudo lxml.html.HtmlElement.make_links_absolute(base_url)\u001b[39;00m\n\u001b[1;32m     81\u001b[0m     \u001b[39mtry\u001b[39;00m:\n\u001b[1;32m     82\u001b[0m         \u001b[39mif\u001b[39;00m \u001b[39mself\u001b[39m\u001b[39m.\u001b[39mstrip:\n",
      "File \u001b[0;32m~/setupfiles/anaconda3/envs/py310/lib/python3.10/site-packages/scrapy/linkextractors/lxmlhtml.py:67\u001b[0m, in \u001b[0;36mLxmlParserLinkExtractor._iter_links\u001b[0;34m(self, document)\u001b[0m\n\u001b[1;32m     66\u001b[0m \u001b[39mdef\u001b[39;00m \u001b[39m_iter_links\u001b[39m(\u001b[39mself\u001b[39m, document):\n\u001b[0;32m---> 67\u001b[0m     \u001b[39mfor\u001b[39;00m el \u001b[39min\u001b[39;00m document\u001b[39m.\u001b[39;49miter(etree\u001b[39m.\u001b[39mElement):\n\u001b[1;32m     68\u001b[0m         \u001b[39mif\u001b[39;00m \u001b[39mnot\u001b[39;00m \u001b[39mself\u001b[39m\u001b[39m.\u001b[39mscan_tag(_nons(el\u001b[39m.\u001b[39mtag)):\n\u001b[1;32m     69\u001b[0m             \u001b[39mcontinue\u001b[39;00m\n",
      "\u001b[0;31mAttributeError\u001b[0m: 'str' object has no attribute 'iter'"
     ]
    }
   ],
   "source": [
    "LinkExtractor(restrict_xpaths=\"//div[@class='job']/@data-search--job-selection-job-url-value\", tags=('div'), attrs=('data-search--job-selection-job-url-value')).extract_links(response)"
   ]
  },
  {
   "cell_type": "code",
   "execution_count": null,
   "metadata": {},
   "outputs": [],
   "source": []
  }
 ],
 "metadata": {
  "kernelspec": {
   "display_name": "Python 3.10.4 ('py310')",
   "language": "python",
   "name": "python3"
  },
  "language_info": {
   "codemirror_mode": {
    "name": "ipython",
    "version": 3
   },
   "file_extension": ".py",
   "mimetype": "text/x-python",
   "name": "python",
   "nbconvert_exporter": "python",
   "pygments_lexer": "ipython3",
   "version": "3.10.4"
  },
  "orig_nbformat": 4,
  "vscode": {
   "interpreter": {
    "hash": "12c147c75f1528d02b77cd18321ae8ddb214f8aa2ff83ab1d02d4479b32075ed"
   }
  }
 },
 "nbformat": 4,
 "nbformat_minor": 2
}
